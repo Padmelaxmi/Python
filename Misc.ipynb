{
  "nbformat": 4,
  "nbformat_minor": 0,
  "metadata": {
    "colab": {
      "provenance": []
    },
    "kernelspec": {
      "name": "python3",
      "display_name": "Python 3"
    },
    "language_info": {
      "name": "python"
    }
  },
  "cells": [
    {
      "cell_type": "markdown",
      "source": [
        "Given a list of integers and a target, please find the indices of two numbers in the list whose sum is the target.\n",
        "[-1, 0, 5, 6], target = 5"
      ],
      "metadata": {
        "id": "O0dMoygWm-xY"
      }
    },
    {
      "cell_type": "code",
      "source": [
        "arr = [-1, 0, 5, 6]\n",
        "target = 5\n",
        "\n",
        "def findSum(arr, target):\n",
        "  arrLen = len(arr)\n",
        "  i = 0\n",
        "  j = arrLen - 1\n",
        "\n",
        "\n",
        "  res = []\n",
        "\n",
        "  while i < j:\n",
        "    if i == j:\n",
        "      break\n",
        "    if arr[i] + arr[j] == target:\n",
        "      res.append([arr[i], arr[j]])\n",
        "      i += 1\n",
        "      j -= 1\n",
        "    else:\n",
        "      if arr[i] + arr[j] < target:\n",
        "        i += 1\n",
        "      else:\n",
        "        j -=1\n",
        "\n",
        "  return res\n",
        "\n",
        "a = findSum(sorted(arr), target)\n",
        "print(a)"
      ],
      "metadata": {
        "colab": {
          "base_uri": "https://localhost:8080/"
        },
        "id": "6CxbJX8Z3GaG",
        "outputId": "712e7f7e-affd-44cb-888f-c597a1c5f497"
      },
      "execution_count": 2,
      "outputs": [
        {
          "output_type": "stream",
          "name": "stdout",
          "text": [
            "[[-1, 6], [0, 5]]\n"
          ]
        }
      ]
    }
  ]
}