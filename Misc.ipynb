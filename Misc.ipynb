{
  "nbformat": 4,
  "nbformat_minor": 0,
  "metadata": {
    "colab": {
      "provenance": []
    },
    "kernelspec": {
      "name": "python3",
      "display_name": "Python 3"
    },
    "language_info": {
      "name": "python"
    }
  },
  "cells": [
    {
      "cell_type": "markdown",
      "source": [
        "Given a list of integers and a target, please find the indices of two numbers in the list whose sum is the target.\n",
        "[-1, 0, 5, 6], target = 5"
      ],
      "metadata": {
        "id": "O0dMoygWm-xY"
      }
    },
    {
      "cell_type": "code",
      "source": [
        "arr = [-1, 0, 5, 6]\n",
        "target = 5\n",
        "\n",
        "def findSum(arr, target):\n",
        "  arrLen = len(arr)\n",
        "  i = 0\n",
        "  j = arrLen - 1\n",
        "\n",
        "\n",
        "  res = []\n",
        "\n",
        "  while i < j:\n",
        "    if i == j:\n",
        "      break\n",
        "    if arr[i] + arr[j] == target:\n",
        "      res.append([arr[i], arr[j]])\n",
        "      i += 1\n",
        "      j -= 1\n",
        "    else:\n",
        "      if arr[i] + arr[j] < target:\n",
        "        i += 1\n",
        "      else:\n",
        "        j -=1\n",
        "\n",
        "  return res\n",
        "\n",
        "a = findSum(sorted(arr), target)\n",
        "print(a)"
      ],
      "metadata": {
        "colab": {
          "base_uri": "https://localhost:8080/"
        },
        "id": "6CxbJX8Z3GaG",
        "outputId": "8f7853b0-f0f6-4e1d-d7b0-c7807f1e40e9"
      },
      "execution_count": null,
      "outputs": [
        {
          "output_type": "stream",
          "name": "stdout",
          "text": [
            "[[-1, 6], [0, 5]]\n"
          ]
        }
      ]
    },
    {
      "cell_type": "markdown",
      "source": [
        "You’re given two dataframes: transactions and products.\n",
        "\n",
        "The transactions dataframe contains transaction ids, product ids, and the total amount of each product sold.\n",
        "\n",
        "The products dataframe contains product ids and prices.\n",
        "\n",
        "Write a function to return a dataframe containing every transaction with a total value of over $100. Include the total value of the transaction as a new column in the dataframe."
      ],
      "metadata": {
        "id": "VoBU0dG9mdAO"
      }
    },
    {
      "cell_type": "code",
      "source": [
        "import pandas as pd\n",
        "transactions = {\"transaction_id\" : (1,2,3,4,5), \"product_id\" : (1,3,2,2,3), \"total_amount\" : (1,1,2,3,1)}\n",
        "products = {\"product_id\" : (1,2,3), \"price\" : (12.34, 34.99, 10.00)}\n",
        "transactions_df = pd.DataFrame(transactions)\n",
        "products_df = pd.DataFrame(products)\n",
        "\n",
        "\n",
        "def transaction_gt_100(transactions_df, products_df):\n",
        "  join_df = transactions_df.merge(products_df, on = \"product_id\", how = \"outer\")\n",
        "  return join_df[join_df['price'] * join_df['total_amount'] > 100]\n",
        "#  join_df['total_value'] = join_df['price'] * join_df['total_amount']\n",
        "#  return join_df[join_df['total_value'] > 100]\n",
        "# (OR)\n",
        "#  return join_df.query('total_value > 100')\n",
        "\n",
        "if __name__ == '__main__':\n",
        "  final_df = transaction_gt_100(transactions_df, products_df)\n",
        "  display(final_df)"
      ],
      "metadata": {
        "colab": {
          "base_uri": "https://localhost:8080/",
          "height": 89
        },
        "id": "0gLj9lNcmcVW",
        "outputId": "77610ae2-38ec-4181-9620-d1020d26f04c"
      },
      "execution_count": null,
      "outputs": [
        {
          "output_type": "display_data",
          "data": {
            "text/plain": [
              "   transaction_id  product_id  total_amount  price\n",
              "2               4           2             3  34.99"
            ],
            "text/html": [
              "\n",
              "  <div id=\"df-4399f4b5-20b9-405a-8889-bb190b17617d\" class=\"colab-df-container\">\n",
              "    <div>\n",
              "<style scoped>\n",
              "    .dataframe tbody tr th:only-of-type {\n",
              "        vertical-align: middle;\n",
              "    }\n",
              "\n",
              "    .dataframe tbody tr th {\n",
              "        vertical-align: top;\n",
              "    }\n",
              "\n",
              "    .dataframe thead th {\n",
              "        text-align: right;\n",
              "    }\n",
              "</style>\n",
              "<table border=\"1\" class=\"dataframe\">\n",
              "  <thead>\n",
              "    <tr style=\"text-align: right;\">\n",
              "      <th></th>\n",
              "      <th>transaction_id</th>\n",
              "      <th>product_id</th>\n",
              "      <th>total_amount</th>\n",
              "      <th>price</th>\n",
              "    </tr>\n",
              "  </thead>\n",
              "  <tbody>\n",
              "    <tr>\n",
              "      <th>2</th>\n",
              "      <td>4</td>\n",
              "      <td>2</td>\n",
              "      <td>3</td>\n",
              "      <td>34.99</td>\n",
              "    </tr>\n",
              "  </tbody>\n",
              "</table>\n",
              "</div>\n",
              "    <div class=\"colab-df-buttons\">\n",
              "\n",
              "  <div class=\"colab-df-container\">\n",
              "    <button class=\"colab-df-convert\" onclick=\"convertToInteractive('df-4399f4b5-20b9-405a-8889-bb190b17617d')\"\n",
              "            title=\"Convert this dataframe to an interactive table.\"\n",
              "            style=\"display:none;\">\n",
              "\n",
              "  <svg xmlns=\"http://www.w3.org/2000/svg\" height=\"24px\" viewBox=\"0 -960 960 960\">\n",
              "    <path d=\"M120-120v-720h720v720H120Zm60-500h600v-160H180v160Zm220 220h160v-160H400v160Zm0 220h160v-160H400v160ZM180-400h160v-160H180v160Zm440 0h160v-160H620v160ZM180-180h160v-160H180v160Zm440 0h160v-160H620v160Z\"/>\n",
              "  </svg>\n",
              "    </button>\n",
              "\n",
              "  <style>\n",
              "    .colab-df-container {\n",
              "      display:flex;\n",
              "      gap: 12px;\n",
              "    }\n",
              "\n",
              "    .colab-df-convert {\n",
              "      background-color: #E8F0FE;\n",
              "      border: none;\n",
              "      border-radius: 50%;\n",
              "      cursor: pointer;\n",
              "      display: none;\n",
              "      fill: #1967D2;\n",
              "      height: 32px;\n",
              "      padding: 0 0 0 0;\n",
              "      width: 32px;\n",
              "    }\n",
              "\n",
              "    .colab-df-convert:hover {\n",
              "      background-color: #E2EBFA;\n",
              "      box-shadow: 0px 1px 2px rgba(60, 64, 67, 0.3), 0px 1px 3px 1px rgba(60, 64, 67, 0.15);\n",
              "      fill: #174EA6;\n",
              "    }\n",
              "\n",
              "    .colab-df-buttons div {\n",
              "      margin-bottom: 4px;\n",
              "    }\n",
              "\n",
              "    [theme=dark] .colab-df-convert {\n",
              "      background-color: #3B4455;\n",
              "      fill: #D2E3FC;\n",
              "    }\n",
              "\n",
              "    [theme=dark] .colab-df-convert:hover {\n",
              "      background-color: #434B5C;\n",
              "      box-shadow: 0px 1px 3px 1px rgba(0, 0, 0, 0.15);\n",
              "      filter: drop-shadow(0px 1px 2px rgba(0, 0, 0, 0.3));\n",
              "      fill: #FFFFFF;\n",
              "    }\n",
              "  </style>\n",
              "\n",
              "    <script>\n",
              "      const buttonEl =\n",
              "        document.querySelector('#df-4399f4b5-20b9-405a-8889-bb190b17617d button.colab-df-convert');\n",
              "      buttonEl.style.display =\n",
              "        google.colab.kernel.accessAllowed ? 'block' : 'none';\n",
              "\n",
              "      async function convertToInteractive(key) {\n",
              "        const element = document.querySelector('#df-4399f4b5-20b9-405a-8889-bb190b17617d');\n",
              "        const dataTable =\n",
              "          await google.colab.kernel.invokeFunction('convertToInteractive',\n",
              "                                                    [key], {});\n",
              "        if (!dataTable) return;\n",
              "\n",
              "        const docLinkHtml = 'Like what you see? Visit the ' +\n",
              "          '<a target=\"_blank\" href=https://colab.research.google.com/notebooks/data_table.ipynb>data table notebook</a>'\n",
              "          + ' to learn more about interactive tables.';\n",
              "        element.innerHTML = '';\n",
              "        dataTable['output_type'] = 'display_data';\n",
              "        await google.colab.output.renderOutput(dataTable, element);\n",
              "        const docLink = document.createElement('div');\n",
              "        docLink.innerHTML = docLinkHtml;\n",
              "        element.appendChild(docLink);\n",
              "      }\n",
              "    </script>\n",
              "  </div>\n",
              "\n",
              "\n",
              "  <div id=\"id_3d431785-0c0a-4ea8-9f68-23815c43c6ac\">\n",
              "    <style>\n",
              "      .colab-df-generate {\n",
              "        background-color: #E8F0FE;\n",
              "        border: none;\n",
              "        border-radius: 50%;\n",
              "        cursor: pointer;\n",
              "        display: none;\n",
              "        fill: #1967D2;\n",
              "        height: 32px;\n",
              "        padding: 0 0 0 0;\n",
              "        width: 32px;\n",
              "      }\n",
              "\n",
              "      .colab-df-generate:hover {\n",
              "        background-color: #E2EBFA;\n",
              "        box-shadow: 0px 1px 2px rgba(60, 64, 67, 0.3), 0px 1px 3px 1px rgba(60, 64, 67, 0.15);\n",
              "        fill: #174EA6;\n",
              "      }\n",
              "\n",
              "      [theme=dark] .colab-df-generate {\n",
              "        background-color: #3B4455;\n",
              "        fill: #D2E3FC;\n",
              "      }\n",
              "\n",
              "      [theme=dark] .colab-df-generate:hover {\n",
              "        background-color: #434B5C;\n",
              "        box-shadow: 0px 1px 3px 1px rgba(0, 0, 0, 0.15);\n",
              "        filter: drop-shadow(0px 1px 2px rgba(0, 0, 0, 0.3));\n",
              "        fill: #FFFFFF;\n",
              "      }\n",
              "    </style>\n",
              "    <button class=\"colab-df-generate\" onclick=\"generateWithVariable('final_df')\"\n",
              "            title=\"Generate code using this dataframe.\"\n",
              "            style=\"display:none;\">\n",
              "\n",
              "  <svg xmlns=\"http://www.w3.org/2000/svg\" height=\"24px\"viewBox=\"0 0 24 24\"\n",
              "       width=\"24px\">\n",
              "    <path d=\"M7,19H8.4L18.45,9,17,7.55,7,17.6ZM5,21V16.75L18.45,3.32a2,2,0,0,1,2.83,0l1.4,1.43a1.91,1.91,0,0,1,.58,1.4,1.91,1.91,0,0,1-.58,1.4L9.25,21ZM18.45,9,17,7.55Zm-12,3A5.31,5.31,0,0,0,4.9,8.1,5.31,5.31,0,0,0,1,6.5,5.31,5.31,0,0,0,4.9,4.9,5.31,5.31,0,0,0,6.5,1,5.31,5.31,0,0,0,8.1,4.9,5.31,5.31,0,0,0,12,6.5,5.46,5.46,0,0,0,6.5,12Z\"/>\n",
              "  </svg>\n",
              "    </button>\n",
              "    <script>\n",
              "      (() => {\n",
              "      const buttonEl =\n",
              "        document.querySelector('#id_3d431785-0c0a-4ea8-9f68-23815c43c6ac button.colab-df-generate');\n",
              "      buttonEl.style.display =\n",
              "        google.colab.kernel.accessAllowed ? 'block' : 'none';\n",
              "\n",
              "      buttonEl.onclick = () => {\n",
              "        google.colab.notebook.generateWithVariable('final_df');\n",
              "      }\n",
              "      })();\n",
              "    </script>\n",
              "  </div>\n",
              "\n",
              "    </div>\n",
              "  </div>\n"
            ],
            "application/vnd.google.colaboratory.intrinsic+json": {
              "type": "dataframe",
              "variable_name": "final_df",
              "summary": "{\n  \"name\": \"final_df\",\n  \"rows\": 1,\n  \"fields\": [\n    {\n      \"column\": \"transaction_id\",\n      \"properties\": {\n        \"dtype\": \"number\",\n        \"std\": null,\n        \"min\": 4,\n        \"max\": 4,\n        \"num_unique_values\": 1,\n        \"samples\": [\n          4\n        ],\n        \"semantic_type\": \"\",\n        \"description\": \"\"\n      }\n    },\n    {\n      \"column\": \"product_id\",\n      \"properties\": {\n        \"dtype\": \"number\",\n        \"std\": null,\n        \"min\": 2,\n        \"max\": 2,\n        \"num_unique_values\": 1,\n        \"samples\": [\n          2\n        ],\n        \"semantic_type\": \"\",\n        \"description\": \"\"\n      }\n    },\n    {\n      \"column\": \"total_amount\",\n      \"properties\": {\n        \"dtype\": \"number\",\n        \"std\": null,\n        \"min\": 3,\n        \"max\": 3,\n        \"num_unique_values\": 1,\n        \"samples\": [\n          3\n        ],\n        \"semantic_type\": \"\",\n        \"description\": \"\"\n      }\n    },\n    {\n      \"column\": \"price\",\n      \"properties\": {\n        \"dtype\": \"number\",\n        \"std\": null,\n        \"min\": 34.99,\n        \"max\": 34.99,\n        \"num_unique_values\": 1,\n        \"samples\": [\n          34.99\n        ],\n        \"semantic_type\": \"\",\n        \"description\": \"\"\n      }\n    }\n  ]\n}"
            }
          },
          "metadata": {}
        }
      ]
    },
    {
      "cell_type": "markdown",
      "source": [
        "Split the given string into n number of equal parts. If the string cannot be split into n parts, print \"The string cannot be split into n parts\""
      ],
      "metadata": {
        "id": "rIQREuhFnz-9"
      }
    },
    {
      "cell_type": "code",
      "source": [
        "input = \"purchase\"\n",
        "n = 2\n",
        "\n",
        "def split_equally(input, n):\n",
        "  split = []\n",
        "  i = 0\n",
        "\n",
        "  while i < len(input):\n",
        "    split.append(input[i:i+n])\n",
        "    i += n\n",
        "\n",
        "  return split\n",
        "\n",
        "if len(input)%n == 0:\n",
        "  print(\"The string will be split into \" + str(len(input)/n) + \" parts : \" )\n",
        "  split = split_equally(input, n)\n",
        "  print(split)\n",
        "\n",
        "else:\n",
        "  print(\"The string cannot be split into equal \" + str(n) + \" parts\")"
      ],
      "metadata": {
        "colab": {
          "base_uri": "https://localhost:8080/"
        },
        "id": "pMM2wU_tpX7A",
        "outputId": "8506954a-5f4a-4122-fc9e-5f0614861bda"
      },
      "execution_count": null,
      "outputs": [
        {
          "output_type": "stream",
          "name": "stdout",
          "text": [
            "The string will be split into 4.0 parts : \n",
            "['pu', 'rc', 'ha', 'se']\n"
          ]
        }
      ]
    },
    {
      "cell_type": "markdown",
      "source": [
        "Find the minimum absolute distance"
      ],
      "metadata": {
        "id": "UftIEYczaxND"
      }
    },
    {
      "cell_type": "code",
      "source": [
        "import sys\n",
        "least_diff, curr_diff = sys.maxsize, sys.maxsize\n",
        "res = []\n",
        "for x in v:\n",
        "  for y in v:\n",
        "    if x!=y :\n",
        "      curr_diff = abs(x-y)\n",
        "      if [y,x] not in res:\n",
        "        if curr_diff == least_diff:\n",
        "          res.append([x, y])\n",
        "        if curr_diff < least_diff:\n",
        "          res = []\n",
        "          res.append([x,y])\n",
        "      least_diff = min(curr_diff, least_diff)\n",
        "print(least_diff, res)"
      ],
      "metadata": {
        "colab": {
          "base_uri": "https://localhost:8080/"
        },
        "id": "qmCT7K_Ea_bq",
        "outputId": "63e1c078-1f3e-4830-c8a0-e16b9470f709"
      },
      "execution_count": null,
      "outputs": [
        {
          "output_type": "stream",
          "name": "stdout",
          "text": [
            "4 [[57, 61], [68, 72], [122, 126]]\n"
          ]
        }
      ]
    },
    {
      "cell_type": "markdown",
      "source": [
        "Find intersection between two lists"
      ],
      "metadata": {
        "id": "ErsTfCooe-e6"
      }
    },
    {
      "cell_type": "code",
      "source": [
        "X = [1,5,9,0]\n",
        "Y = [3,0,2,9]\n",
        "intersection_X_Y = []\n",
        "\n",
        "for each in X:\n",
        "  if each in Y:\n",
        "    intersection_X_Y.append(each)\n",
        "\n",
        "print(intersection_X_Y)"
      ],
      "metadata": {
        "colab": {
          "base_uri": "https://localhost:8080/"
        },
        "id": "02pbnv2Je9pl",
        "outputId": "9439e53f-9f7a-4728-b074-043b8ad022ff"
      },
      "execution_count": null,
      "outputs": [
        {
          "output_type": "stream",
          "name": "stdout",
          "text": [
            "[9, 0]\n"
          ]
        }
      ]
    },
    {
      "cell_type": "code",
      "source": [
        "[x for x in X for y in Y if x == y]"
      ],
      "metadata": {
        "colab": {
          "base_uri": "https://localhost:8080/"
        },
        "id": "rg3jZaYbfCj9",
        "outputId": "63ed8862-229f-444c-86fd-b1f8132a146e"
      },
      "execution_count": null,
      "outputs": [
        {
          "output_type": "execute_result",
          "data": {
            "text/plain": [
              "[9, 0]"
            ]
          },
          "metadata": {},
          "execution_count": 19
        }
      ]
    },
    {
      "cell_type": "markdown",
      "source": [
        "Print one occurrence of every duplicate element in the given list"
      ],
      "metadata": {
        "id": "Kgd_Wkpjff-7"
      }
    },
    {
      "cell_type": "code",
      "source": [
        "def find_dup(A):\n",
        "  if len(set(A)) == len(A):\n",
        "    return \"there are no duplicates\"\n",
        "  return [each for each in set(A) if A.count(each) > 1]\n",
        "\n",
        "A = [1,2,3,7,3,1,3,6,5]\n",
        "\n",
        "if __name__ == \"__main__\" :\n",
        "  print(find_dup(A))"
      ],
      "metadata": {
        "colab": {
          "base_uri": "https://localhost:8080/"
        },
        "id": "gntpFTOdfgeu",
        "outputId": "45271474-d5b5-410b-ae0a-23d875cb34e2"
      },
      "execution_count": null,
      "outputs": [
        {
          "output_type": "stream",
          "name": "stdout",
          "text": [
            "[1, 3]\n"
          ]
        }
      ]
    },
    {
      "cell_type": "markdown",
      "source": [
        "Given a list of numbers, consider all the elements concatenated to form a number and add 1 to it. Return the result as one number."
      ],
      "metadata": {
        "id": "E8LXLa5ZhFhK"
      }
    },
    {
      "cell_type": "code",
      "source": [
        "digits = [1,2,3]\n",
        "res = digits.copy()\n",
        "carry_over = 0\n",
        "\n",
        "if digits[-1] != 9:\n",
        "  res[-1] += 1\n",
        "else:\n",
        "  res[-1] = 0\n",
        "  carry_over = 1\n",
        "  for i in range(len(digits)-2, -1, -1):\n",
        "    if digits[i] == 9:\n",
        "      res[i] = 0\n",
        "      carry_over = 1\n",
        "    else:\n",
        "      res[i] = digits[i] + carry_over\n",
        "      carry_over = 0\n",
        "\n",
        "if carry_over == 1:\n",
        "  res.insert(0, 1)\n",
        "\n",
        "print(res)"
      ],
      "metadata": {
        "colab": {
          "base_uri": "https://localhost:8080/"
        },
        "id": "PdvwdpOyhsG4",
        "outputId": "267fa4c9-853a-49f2-ee57-3a04b0d1d8eb"
      },
      "execution_count": null,
      "outputs": [
        {
          "output_type": "stream",
          "name": "stdout",
          "text": [
            "[1, 2, 3] [1, 2, 4]\n"
          ]
        }
      ]
    },
    {
      "cell_type": "code",
      "source": [
        "digits = [8,9,9]\n",
        "res = [0] * len(digits)\n",
        "res[-1] = 1\n",
        "\n",
        "for i in range(len(digits) - 1, -1, -1):\n",
        "  if digits[i] == 9:\n",
        "    if i == 0:\n",
        "      res[i] = 0\n",
        "      res.insert(0, 1)\n",
        "    else:\n",
        "      res[i] = 0\n",
        "      res[i-1] += 1\n",
        "  else:\n",
        "    res[i] += digits[i]\n",
        "\n",
        "print(res)"
      ],
      "metadata": {
        "colab": {
          "base_uri": "https://localhost:8080/"
        },
        "id": "g2gc_KwYlDc5",
        "outputId": "88a1d8cd-e122-47de-e7c5-74646c6e2440"
      },
      "execution_count": null,
      "outputs": [
        {
          "output_type": "stream",
          "name": "stdout",
          "text": [
            "[9, 0, 0]\n"
          ]
        }
      ]
    },
    {
      "cell_type": "markdown",
      "source": [
        "Given a list, find the highest product possible by multiplying three elements"
      ],
      "metadata": {
        "id": "KEGHpVSJosq1"
      }
    },
    {
      "cell_type": "code",
      "source": [
        "A = [-7,-8,1,2,3,1,3,6,5,0]\n",
        "B = [1]*3\n",
        "C = [1]*3\n",
        "j, k = 0, 0\n",
        "\n",
        "if 0 in A:\n",
        "  A.remove(0)\n",
        "\n",
        "if len(A) < 3:\n",
        "  print(0)\n",
        "\n",
        "\n",
        "for i in A:\n",
        "  if i > 0:\n",
        "    if j > 2:\n",
        "      B.append(i)\n",
        "    else:\n",
        "      B[j]= i\n",
        "      j += 1\n",
        "  else:\n",
        "    if k > 2:\n",
        "      C.append(i)\n",
        "    else:\n",
        "      C[k] = i\n",
        "      k += 1\n",
        "\n",
        "C.sort()\n",
        "B.sort()\n",
        "print(max(C[-1]*C[-2]*C[-3],B[-1]*B[-2]*B[-3], C[-1]*B[-1]*B[-2], C[0]*C[1]*B[-1] ))"
      ],
      "metadata": {
        "colab": {
          "base_uri": "https://localhost:8080/"
        },
        "id": "jLInLyzP4jXb",
        "outputId": "16cd7f5d-55e5-435b-bc25-4624945485d3"
      },
      "execution_count": null,
      "outputs": [
        {
          "output_type": "stream",
          "name": "stdout",
          "text": [
            "336\n"
          ]
        }
      ]
    },
    {
      "cell_type": "code",
      "source": [
        "A = [-7,-8,1,2,3,1,3,6,5,0]\n",
        "print(max([i*j*k for i in A for j in A for k in A if i!=j and i!=k and j!=k]))"
      ],
      "metadata": {
        "colab": {
          "base_uri": "https://localhost:8080/"
        },
        "id": "XokvZC-Co9yR",
        "outputId": "575a8a46-f249-4619-9126-083bca5e62ec"
      },
      "execution_count": null,
      "outputs": [
        {
          "output_type": "stream",
          "name": "stdout",
          "text": [
            "336\n"
          ]
        }
      ]
    },
    {
      "cell_type": "markdown",
      "source": [
        "you are given a list of strings, return a list of grouped the anagrams together. Order doesn't matter.\n",
        "input: s = [\"tam\", \"meat\", \"apple\", \"ate\", \"mat\", \"tea\", \"team\", \"atm\"]\n",
        "output: [[\"tam\", \"mat\"], [\"meat \",\"team\"], [\"tea\", \"ate\"], [\"apple\"]]"
      ],
      "metadata": {
        "id": "D2aF8ad6BqDY"
      }
    },
    {
      "cell_type": "code",
      "source": [
        "temp_list = []\n",
        "s = [\"tam\", \"meat\", \"apple\", \"ate\", \"mat\", \"tea\", \"team\"]\n",
        "[temp_list.append([x,y]) for idx, x in enumerate(s) for idy, y in enumerate(s) if sorted(x) == sorted(y) and idx != idy and [y,x] not in temp_list]\n",
        "print(temp_list)"
      ],
      "metadata": {
        "colab": {
          "base_uri": "https://localhost:8080/"
        },
        "id": "Y6n0RjgiBnO6",
        "outputId": "7b8a5bbb-cb3e-4a85-ad8d-877c0e46943f"
      },
      "execution_count": 1,
      "outputs": [
        {
          "output_type": "stream",
          "name": "stdout",
          "text": [
            "[['tam', 'mat'], ['meat', 'team'], ['ate', 'tea']]\n"
          ]
        }
      ]
    }
  ]
}