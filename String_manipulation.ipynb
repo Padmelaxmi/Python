{
  "nbformat": 4,
  "nbformat_minor": 0,
  "metadata": {
    "colab": {
      "provenance": []
    },
    "kernelspec": {
      "name": "python3",
      "display_name": "Python 3"
    },
    "language_info": {
      "name": "python"
    }
  },
  "cells": [
    {
      "cell_type": "code",
      "execution_count": 3,
      "metadata": {
        "id": "IZEy0Hxcjg2i"
      },
      "outputs": [],
      "source": [
        "#Given a string, the task is to reverse the order of the words in the given string.\n",
        "\n",
        "#s = \"geeks quiz practice code\"\n",
        "#Output: s = “code practice quiz geeks”\n",
        "\n",
        "#s = \"i love programming very much\"\n",
        "#Output: s = “much very programming love i”"
      ]
    },
    {
      "cell_type": "code",
      "source": [
        "s = '''geeks quiz practice code\n",
        "i love programming very much'''\n",
        "\n",
        "def rev_string(s):\n",
        "  return \" \".join(s.split(\" \")[::-1])\n",
        "\n",
        "if __name__ == \"__main__\":\n",
        "  for each in s.splitlines():\n",
        "    print(rev_string(each))"
      ],
      "metadata": {
        "id": "k1_CIFGOBq8c",
        "colab": {
          "base_uri": "https://localhost:8080/"
        },
        "outputId": "da1f0ca3-ea52-4375-df06-048dcf465219"
      },
      "execution_count": 4,
      "outputs": [
        {
          "output_type": "stream",
          "name": "stdout",
          "text": [
            "code practice quiz geeks\n",
            "much very programming love i\n"
          ]
        }
      ]
    },
    {
      "cell_type": "code",
      "source": [
        "'''\n",
        "Given a set of strings, find the longest common prefix.\n",
        "Examples:\n",
        "\n",
        "    Input: {“geeksforgeeks”, “geeks”, “geek”, “geezer”}\n",
        "    Output: “gee”\n",
        "\n",
        "    Input: {“apple”, “ape”, “april”}\n",
        "    Output: “ap”\n",
        "'''"
      ],
      "metadata": {
        "id": "Kiz-51GrDfkL"
      },
      "execution_count": null,
      "outputs": []
    },
    {
      "cell_type": "code",
      "source": [
        "s = [\"geeksforgeeks\",\"geeks\",\"geek\",\"gezer\"]\n",
        "s_len=[len(each) for each in s]\n",
        "smallest_str = s[s_len.index(min(s_len))]\n",
        "\n",
        "longest_common_prefix = smallest_str\n",
        "\n",
        "while True:\n",
        "  if all(ele.startswith(longest_common_prefix) for ele in s):\n",
        "    print(longest_common_prefix)\n",
        "    break\n",
        "  else:\n",
        "    longest_common_prefix = longest_common_prefix[:-1]"
      ],
      "metadata": {
        "colab": {
          "base_uri": "https://localhost:8080/"
        },
        "id": "KK9NUSWmHztT",
        "outputId": "2fcf03dc-b1e0-4683-ebe7-bf1d7ca3056d"
      },
      "execution_count": null,
      "outputs": [
        {
          "output_type": "stream",
          "name": "stdout",
          "text": [
            "ge\n"
          ]
        }
      ]
    },
    {
      "cell_type": "code",
      "source": [
        "'''Given a string in roman form, the task is to convert this given roman string into an integer.\n",
        "    Input: IX\n",
        "    Output: 9\n",
        "    Explanation: IX is a Roman symbol which represents 9\n",
        "\n",
        "    Input: XL\n",
        "    Output: 40\n",
        "    Explanation: XL is a Roman symbol which represents 40\n",
        "\n",
        "    Input: MCMIV\n",
        "    Output: 1904\n",
        "    Explanation: M is a thousand, CM is nine hundred and IV is four\n",
        "'''"
      ],
      "metadata": {
        "id": "yu8swd3vIptD"
      },
      "execution_count": null,
      "outputs": []
    },
    {
      "cell_type": "code",
      "source": [
        "s='''IX\n",
        "XL\n",
        "MCMIV\n",
        "'''\n",
        "roman_dict={\"I\":1, \"V\":5, \"X\":10,\"L\":50,\"C\":100,\"D\":500,\"M\":1000}\n",
        "\n",
        "def convert_roman_to_decimal(each):\n",
        "  decimal_int = 0\n",
        "  prev_ele = 0\n",
        "  for ele in each:\n",
        "    curr_ele = roman_dict.get(ele)\n",
        "    if prev_ele == 0:\n",
        "      prev_ele = curr_ele\n",
        "      decimal_int = curr_ele\n",
        "      continue\n",
        "    else:\n",
        "      if (prev_ele > curr_ele):\n",
        "        decimal_int += curr_ele\n",
        "      else:\n",
        "        decimal_int = decimal_int + curr_ele - 2 * prev_ele\n",
        "    prev_ele = curr_ele\n",
        "  return decimal_int\n",
        "\n",
        "\n",
        "if __name__ == \"__main__\":\n",
        "  for each in s.splitlines():\n",
        "    print(convert_roman_to_decimal(each))"
      ],
      "metadata": {
        "colab": {
          "base_uri": "https://localhost:8080/"
        },
        "id": "EdQHy0FZJHUo",
        "outputId": "708808d3-df89-4bfd-ebc2-3a3af1b89e64"
      },
      "execution_count": 5,
      "outputs": [
        {
          "output_type": "stream",
          "name": "stdout",
          "text": [
            "9\n",
            "40\n",
            "1904\n"
          ]
        }
      ]
    },
    {
      "cell_type": "code",
      "source": [
        "'''Find the minimum distance between the given two words\n",
        "    Input: S = { “the”, “quick”, “brown”, “fox”, “quick”}, word1 = “the”, word2 = “fox”\n",
        "    Output: 3\n",
        "    Explanation: Minimum distance between the words “the” and “fox” is 3\n",
        "\n",
        "    Input: S = {“geeks”, “for”, “geeks”, “contribute”,  “practice”}, word1 = “geeks”, word2 = “practice”\n",
        "    Output: 2\n",
        "    Explanation: Minimum distance between the words “geeks” and “practice” is 2\n",
        "'''"
      ],
      "metadata": {
        "id": "_gqtzl_5PrMe"
      },
      "execution_count": null,
      "outputs": []
    },
    {
      "cell_type": "code",
      "source": [
        "s = [\"the\",\"quick\",\"brown\",\"fox\",\"quick\"]\n",
        "w1 = \"the\"\n",
        "w2 = \"fox\"\n",
        "'''s = [\"geeks\",\"for\",\"geeks\",\"contribute\",\"practice\"]\n",
        "w1 = \"geeks\"\n",
        "w2 = \"practice\"\n",
        "'''\n",
        "w1_search = [idx for idx,each in enumerate(s) if w1 in each]\n",
        "w2_search = [idx for idx,each in enumerate(s) if w2 in each]\n",
        "\n",
        "res = []\n",
        "for i in w1_search:\n",
        "  for j in w2_search:\n",
        "    res.append(abs(i-j))\n",
        "print(min(res))"
      ],
      "metadata": {
        "colab": {
          "base_uri": "https://localhost:8080/"
        },
        "id": "4ZnFSWX7P7e9",
        "outputId": "500015a6-fe99-4472-9399-3bc22bef453a"
      },
      "execution_count": 10,
      "outputs": [
        {
          "output_type": "stream",
          "name": "stdout",
          "text": [
            "3\n"
          ]
        }
      ]
    },
    {
      "cell_type": "code",
      "source": [
        "#Check if two given Strings are Isomorphic to each other\n",
        "s1 = \"egg\"\n",
        "s2 = \"add\"\n",
        "\n",
        "map_dict={}\n",
        "\n",
        "if len(s1) != len(s2):\n",
        "  print(\"Not Isomorphic\")\n",
        "else:\n",
        "  for i,j in zip(s1,s2):\n",
        "    if i not in map_dict and j not in map_dict.values() and i not in map_dict.values() and j not in map_dict:\n",
        "      map_dict[i] = j\n",
        "      map_dict[j] = i\n",
        "    else:\n",
        "      if (i in map_dict and map_dict[i] != j) or (j in map_dict and map_dict[j] != i):\n",
        "        print(\"Not Isomorphic\")\n",
        "        break\n",
        "  print(\"Isomorphic\")\n",
        "  print(map_dict)"
      ],
      "metadata": {
        "colab": {
          "base_uri": "https://localhost:8080/"
        },
        "id": "xGjqm7L6UscM",
        "outputId": "dbfd2618-af9a-48ed-da27-ba79dfefb1e5"
      },
      "execution_count": null,
      "outputs": [
        {
          "output_type": "stream",
          "name": "stdout",
          "text": [
            "Isomorphic\n",
            "{'e': 'a', 'a': 'e', 'g': 'd', 'd': 'g'}\n"
          ]
        }
      ]
    },
    {
      "cell_type": "code",
      "source": [
        "#    Write a Python program to check if a string contains only unique characters.\n",
        "string = '''aabbcdeaflkjgaoingbbbaedk\n",
        "abcd'''\n",
        "\n",
        "def checkUnique(string):\n",
        "  for each in string:\n",
        "    if string.count(each) > 1:\n",
        "      return False\n",
        "    return True\n",
        "\n",
        "for s in string.splitlines():\n",
        "  print(s, checkUnique(s))"
      ],
      "metadata": {
        "colab": {
          "base_uri": "https://localhost:8080/"
        },
        "id": "vvVkvfyIEX5S",
        "outputId": "5e507eb0-9bcf-4b38-f45a-9602b8dbfe67"
      },
      "execution_count": 12,
      "outputs": [
        {
          "output_type": "stream",
          "name": "stdout",
          "text": [
            "aabbcdeaflkjgaoingbbbaedk False\n",
            "abcd True\n"
          ]
        }
      ]
    },
    {
      "cell_type": "code",
      "source": [
        "#    Write a Python program to check if a string contains only unique characters.\n",
        "string = '''aabbcdeaflkjgaoingbbbaedk\n",
        "abcd'''\n",
        "\n",
        "for each in string.splitlines():\n",
        "  print(each, len(each) == len(set(each)))\n"
      ],
      "metadata": {
        "colab": {
          "base_uri": "https://localhost:8080/"
        },
        "id": "vlyx2ffTEpuU",
        "outputId": "0d357127-389e-494c-c503-e26bb020f9fe"
      },
      "execution_count": 11,
      "outputs": [
        {
          "output_type": "stream",
          "name": "stdout",
          "text": [
            "aabbcdeaflkjgaoingbbbaedk False\n",
            "abcd True\n"
          ]
        }
      ]
    },
    {
      "cell_type": "code",
      "source": [
        "#    Write a Python program to find the common characters between two strings.\n",
        "string = 'aabbcdeaflkjgaoingbbbaedk'\n",
        "string1 = 'abcz'\n",
        "\n",
        "set(string).intersection(set(string1))"
      ],
      "metadata": {
        "colab": {
          "base_uri": "https://localhost:8080/"
        },
        "id": "hg6J84lhEh3a",
        "outputId": "cba1d212-4de9-419b-e3b6-4b5e4b1a1ffe"
      },
      "execution_count": 13,
      "outputs": [
        {
          "output_type": "execute_result",
          "data": {
            "text/plain": [
              "{'a', 'b', 'c'}"
            ]
          },
          "metadata": {},
          "execution_count": 13
        }
      ]
    },
    {
      "cell_type": "code",
      "source": [
        "#Write a Python program to find the first non-repeated character in a string.\n",
        "string = 'aabbcdeaflkjgaoingbbbaedk'\n",
        "\n",
        "from collections import OrderedDict\n",
        "str_dict = OrderedDict()\n",
        "\n",
        "for each in string:\n",
        "  if string.count(each)==1:\n",
        "    str_dict[each] = string.count(each)\n",
        "print(next(iter(str_dict.keys())))"
      ],
      "metadata": {
        "colab": {
          "base_uri": "https://localhost:8080/"
        },
        "id": "UnCZ-DBcE4pg",
        "outputId": "c6b80053-aa72-4eb0-9cff-c58cdf45bdf2"
      },
      "execution_count": 15,
      "outputs": [
        {
          "output_type": "stream",
          "name": "stdout",
          "text": [
            "c\n"
          ]
        }
      ]
    },
    {
      "cell_type": "code",
      "source": [
        "# Write a Python program to reverse the order of words in a sentence.\n",
        "sentence = \"mary had a little lamb, little lamb, little lamb, mary had a little lamb\"\n",
        "\" \".join(sentence.split()[::-1])"
      ],
      "metadata": {
        "colab": {
          "base_uri": "https://localhost:8080/",
          "height": 35
        },
        "id": "0MNRyqwkE_J1",
        "outputId": "0e875bec-c6e5-4648-9280-24c681535b00"
      },
      "execution_count": 16,
      "outputs": [
        {
          "output_type": "execute_result",
          "data": {
            "text/plain": [
              "'lamb little a had mary lamb, little lamb, little lamb, little a had mary'"
            ],
            "application/vnd.google.colaboratory.intrinsic+json": {
              "type": "string"
            }
          },
          "metadata": {},
          "execution_count": 16
        }
      ]
    },
    {
      "cell_type": "code",
      "source": [
        "#Write a Python program to find the length of the last word in a sentence.\n",
        "sentence = \"mary had a little lamb, little lamb, little lamb, mary had a little lamb\"\n",
        "print(len(sentence.split()[-1]))\n",
        "#"
      ],
      "metadata": {
        "colab": {
          "base_uri": "https://localhost:8080/"
        },
        "id": "1bhHtkOJFDSm",
        "outputId": "a36b3a5f-3eb1-48ac-f547-d328807d261d"
      },
      "execution_count": 17,
      "outputs": [
        {
          "output_type": "stream",
          "name": "stdout",
          "text": [
            "4\n"
          ]
        }
      ]
    },
    {
      "cell_type": "code",
      "source": [
        "#Write a Python program to replace all occurrences of a substring with another substring.\n",
        "sentence = \"mary had a little lamb, little lamb, little lamb, mary had a little lamb\"\n",
        "sentence = sentence.replace(\"little\", \"big\")\n",
        "#\n",
        "sentence"
      ],
      "metadata": {
        "colab": {
          "base_uri": "https://localhost:8080/",
          "height": 35
        },
        "id": "rWxY7OKaFGf0",
        "outputId": "22c1e014-80c0-456d-f057-877acccf9162"
      },
      "execution_count": 18,
      "outputs": [
        {
          "output_type": "execute_result",
          "data": {
            "text/plain": [
              "'mary had a big lamb, big lamb, big lamb, mary had a big lamb'"
            ],
            "application/vnd.google.colaboratory.intrinsic+json": {
              "type": "string"
            }
          },
          "metadata": {},
          "execution_count": 18
        }
      ]
    },
    {
      "cell_type": "code",
      "source": [
        "#Write a Python program to find the index of the first occurrence of a substring in a string.\n",
        "\n",
        "sentence = \"mary had a little lamb, little lamb, little lamb, mary had a little lamb\"\n",
        "find_str = \"little\"\n",
        "\n",
        "print(sentence.find(find_str))\n"
      ],
      "metadata": {
        "colab": {
          "base_uri": "https://localhost:8080/"
        },
        "id": "FcNOjnbXFM68",
        "outputId": "8c9ec598-2ab3-486e-e9ea-b669eaa24885"
      },
      "execution_count": 19,
      "outputs": [
        {
          "output_type": "stream",
          "name": "stdout",
          "text": [
            "11\n"
          ]
        }
      ]
    },
    {
      "cell_type": "code",
      "source": [
        "#    Write a Python program to count the occurrences of each word in a sentence.\n",
        "sentence = \"mary had a little lamb, little lamb, little lamb, mary had a little lamb\"\n",
        "sentence = sentence.replace(\",\",\"\")\n",
        "\n",
        "import pandas as pd\n",
        "\n",
        "diction = {}\n",
        "for word in sentence.split(\" \"):\n",
        "  if word in diction:\n",
        "    diction[word] += 1\n",
        "  else:\n",
        "    diction[word] = 1\n",
        "df = pd.DataFrame(diction.items(), columns=['word', 'count'])\n",
        "\n",
        "blankIndex=[''] * len(df)\n",
        "df.index=blankIndex\n",
        "\n",
        "print(df[[\"count\",\"word\"]])\n"
      ],
      "metadata": {
        "colab": {
          "base_uri": "https://localhost:8080/"
        },
        "id": "mvLJzfs1FSbV",
        "outputId": "b4ce95a2-ec8c-47f2-ad84-8a1f0c53dd83"
      },
      "execution_count": 20,
      "outputs": [
        {
          "output_type": "stream",
          "name": "stdout",
          "text": [
            "  count    word\n",
            "      2    mary\n",
            "      2     had\n",
            "      2       a\n",
            "      4  little\n",
            "      4    lamb\n"
          ]
        }
      ]
    },
    {
      "cell_type": "code",
      "source": [
        "#    Write a Python program to remove all duplicates from a string and return the result.\n",
        "string = 'aabbcdeaflkjgaoingbbbaedk'\n",
        "\n",
        "\"\".join(sorted(set(string), key=string.index))"
      ],
      "metadata": {
        "colab": {
          "base_uri": "https://localhost:8080/",
          "height": 35
        },
        "id": "7y081yFcFYx7",
        "outputId": "b73ff0c5-6418-44e2-ef8d-9c9f10c0ccbf"
      },
      "execution_count": 21,
      "outputs": [
        {
          "output_type": "execute_result",
          "data": {
            "text/plain": [
              "'abcdeflkjgoin'"
            ],
            "application/vnd.google.colaboratory.intrinsic+json": {
              "type": "string"
            }
          },
          "metadata": {},
          "execution_count": 21
        }
      ]
    },
    {
      "cell_type": "code",
      "source": [
        "#Write a Python program to find the most frequent character in a string.\n",
        "string = 'aabbcdeaflkjgaoingbbbaedk'\n",
        "print(max(set(string), key=string.count))\n",
        "\n",
        "str_dict = {}\n",
        "for each in string:\n",
        "  str_dict[each] = string.count(each)\n",
        "print([k for k,v in str_dict.items() if v==max(str_dict.values())])"
      ],
      "metadata": {
        "colab": {
          "base_uri": "https://localhost:8080/"
        },
        "id": "uq_BFmsyFcho",
        "outputId": "505c7499-8c07-4d69-f232-b47fb72c1cbf"
      },
      "execution_count": 22,
      "outputs": [
        {
          "output_type": "stream",
          "name": "stdout",
          "text": [
            "b\n",
            "['a', 'b']\n"
          ]
        }
      ]
    },
    {
      "cell_type": "code",
      "source": [
        "#Write a Python program to count the number of vowels in a string.\n",
        "string='abcdefghijklmnopqrstvwxyz'\n",
        "vowels = 'aeiou'\n",
        "print(sum(1 for each in string if each in vowels))"
      ],
      "metadata": {
        "colab": {
          "base_uri": "https://localhost:8080/"
        },
        "id": "G9YBh9E0FgYF",
        "outputId": "e60e285e-ee9e-48e7-8230-9cea20f29532"
      },
      "execution_count": 23,
      "outputs": [
        {
          "output_type": "stream",
          "name": "stdout",
          "text": [
            "4\n"
          ]
        }
      ]
    },
    {
      "cell_type": "code",
      "source": [
        "#Write a Python program to check if a string is a palindrome.\n",
        "string = 'madam'\n",
        "print(string == string[::-1])"
      ],
      "metadata": {
        "colab": {
          "base_uri": "https://localhost:8080/"
        },
        "id": "ES0N4_r6Fknq",
        "outputId": "78ddfefe-5535-4f59-b0f0-37039e8934dc"
      },
      "execution_count": 24,
      "outputs": [
        {
          "output_type": "stream",
          "name": "stdout",
          "text": [
            "True\n"
          ]
        }
      ]
    },
    {
      "cell_type": "code",
      "source": [
        "#Write a Python program to reverse a string.\n",
        "string = 'abcdefghij'\n",
        "print(string[::-1])"
      ],
      "metadata": {
        "colab": {
          "base_uri": "https://localhost:8080/"
        },
        "id": "OF-YEdQGFoVc",
        "outputId": "03d36c85-3c79-42fb-b992-0e3d1ab046b3"
      },
      "execution_count": 25,
      "outputs": [
        {
          "output_type": "stream",
          "name": "stdout",
          "text": [
            "jihgfedcba\n"
          ]
        }
      ]
    },
    {
      "cell_type": "code",
      "source": [
        "#Write a Python program to check if a string is a palindrome.\n",
        "\n",
        "test_sequences = [\"a man, a plan, a canal, panama!\"]\n",
        "def is_pal(ele):\n",
        "  i = 0\n",
        "  j = len(ele) - 1\n",
        "  while i < j:\n",
        "    if ele[i].lower() == ele[j].lower():\n",
        "      i += 1\n",
        "      j -= 1\n",
        "    else:\n",
        "      return False\n",
        "  return True\n",
        "\n",
        "\n",
        "for each in test_sequences:\n",
        "  each = ''.join(each.split()).replace(',','').replace('!','')\n",
        "\n",
        "  print(is_pal(each.strip(' ').strip('!')))"
      ],
      "metadata": {
        "colab": {
          "base_uri": "https://localhost:8080/"
        },
        "id": "1sKBc_2EF4C6",
        "outputId": "dcb0e09f-82c9-4128-cc3e-2e01cfad63a5"
      },
      "execution_count": 26,
      "outputs": [
        {
          "output_type": "stream",
          "name": "stdout",
          "text": [
            "True\n"
          ]
        }
      ]
    },
    {
      "cell_type": "code",
      "source": [
        "def is_palindrome(string):\n",
        "  return string.lower() == string.lower()[::-1]\n",
        "\n",
        "string = \"Delevled\"\n",
        "is_palindrome(string)"
      ],
      "metadata": {
        "colab": {
          "base_uri": "https://localhost:8080/"
        },
        "id": "Gk6vlmS4GN-e",
        "outputId": "b6fa83f2-a3e5-48e0-d87f-a3e7daa97087"
      },
      "execution_count": 27,
      "outputs": [
        {
          "output_type": "execute_result",
          "data": {
            "text/plain": [
              "False"
            ]
          },
          "metadata": {},
          "execution_count": 27
        }
      ]
    },
    {
      "cell_type": "code",
      "source": [
        "def unique_names(arr1, arr2):\n",
        "  unique_names_list = []\n",
        "\n",
        "  return set(arr1+arr2)\n",
        "\n",
        "\n",
        "unique_names(['Ava', 'Emma', 'Olivia'], ['Olivia', 'Sophia', 'Emma'])"
      ],
      "metadata": {
        "colab": {
          "base_uri": "https://localhost:8080/"
        },
        "id": "TfX-fGI1GRiS",
        "outputId": "670c3b64-cab2-4e5f-a377-99b0763aae02"
      },
      "execution_count": 28,
      "outputs": [
        {
          "output_type": "execute_result",
          "data": {
            "text/plain": [
              "{'Ava', 'Emma', 'Olivia', 'Sophia'}"
            ]
          },
          "metadata": {},
          "execution_count": 28
        }
      ]
    }
  ]
}