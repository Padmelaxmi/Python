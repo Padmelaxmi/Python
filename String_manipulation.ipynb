{
  "nbformat": 4,
  "nbformat_minor": 0,
  "metadata": {
    "colab": {
      "provenance": []
    },
    "kernelspec": {
      "name": "python3",
      "display_name": "Python 3"
    },
    "language_info": {
      "name": "python"
    }
  },
  "cells": [
    {
      "cell_type": "code",
      "execution_count": 3,
      "metadata": {
        "id": "IZEy0Hxcjg2i"
      },
      "outputs": [],
      "source": [
        "#Given a string, the task is to reverse the order of the words in the given string.\n",
        "\n",
        "#s = \"geeks quiz practice code\"\n",
        "#Output: s = “code practice quiz geeks”\n",
        "\n",
        "#s = \"i love programming very much\"\n",
        "#Output: s = “much very programming love i”"
      ]
    },
    {
      "cell_type": "code",
      "source": [
        "s = '''geeks quiz practice code\n",
        "i love programming very much'''\n",
        "\n",
        "def rev_string(s):\n",
        "  return \" \".join(s.split(\" \")[::-1])\n",
        "\n",
        "if __name__ == \"__main__\":\n",
        "  for each in s.splitlines():\n",
        "    print(rev_string(each))"
      ],
      "metadata": {
        "id": "k1_CIFGOBq8c",
        "colab": {
          "base_uri": "https://localhost:8080/"
        },
        "outputId": "da1f0ca3-ea52-4375-df06-048dcf465219"
      },
      "execution_count": 4,
      "outputs": [
        {
          "output_type": "stream",
          "name": "stdout",
          "text": [
            "code practice quiz geeks\n",
            "much very programming love i\n"
          ]
        }
      ]
    },
    {
      "cell_type": "code",
      "source": [
        "'''\n",
        "Given a set of strings, find the longest common prefix.\n",
        "Examples:\n",
        "\n",
        "    Input: {“geeksforgeeks”, “geeks”, “geek”, “geezer”}\n",
        "    Output: “gee”\n",
        "\n",
        "    Input: {“apple”, “ape”, “april”}\n",
        "    Output: “ap”\n",
        "'''"
      ],
      "metadata": {
        "id": "Kiz-51GrDfkL"
      },
      "execution_count": null,
      "outputs": []
    },
    {
      "cell_type": "code",
      "source": [
        "s = [\"geeksforgeeks\",\"geeks\",\"geek\",\"gezer\"]\n",
        "s_len=[len(each) for each in s]\n",
        "smallest_str = s[s_len.index(min(s_len))]\n",
        "\n",
        "longest_common_prefix = smallest_str\n",
        "\n",
        "while True:\n",
        "  if all(ele.startswith(longest_common_prefix) for ele in s):\n",
        "    print(longest_common_prefix)\n",
        "    break\n",
        "  else:\n",
        "    longest_common_prefix = longest_common_prefix[:-1]"
      ],
      "metadata": {
        "colab": {
          "base_uri": "https://localhost:8080/"
        },
        "id": "KK9NUSWmHztT",
        "outputId": "2fcf03dc-b1e0-4683-ebe7-bf1d7ca3056d"
      },
      "execution_count": null,
      "outputs": [
        {
          "output_type": "stream",
          "name": "stdout",
          "text": [
            "ge\n"
          ]
        }
      ]
    },
    {
      "cell_type": "code",
      "source": [
        "'''Given a string in roman form, the task is to convert this given roman string into an integer.\n",
        "    Input: IX\n",
        "    Output: 9\n",
        "    Explanation: IX is a Roman symbol which represents 9\n",
        "\n",
        "    Input: XL\n",
        "    Output: 40\n",
        "    Explanation: XL is a Roman symbol which represents 40\n",
        "\n",
        "    Input: MCMIV\n",
        "    Output: 1904\n",
        "    Explanation: M is a thousand, CM is nine hundred and IV is four\n",
        "'''"
      ],
      "metadata": {
        "id": "yu8swd3vIptD"
      },
      "execution_count": null,
      "outputs": []
    },
    {
      "cell_type": "code",
      "source": [
        "s='''IX\n",
        "XL\n",
        "MCMIV\n",
        "'''\n",
        "roman_dict={\"I\":1, \"V\":5, \"X\":10,\"L\":50,\"C\":100,\"D\":500,\"M\":1000}\n",
        "\n",
        "def convert_roman_to_decimal(each):\n",
        "  decimal_int = 0\n",
        "  prev_ele = 0\n",
        "  for ele in each:\n",
        "    curr_ele = roman_dict.get(ele)\n",
        "    if prev_ele == 0:\n",
        "      prev_ele = curr_ele\n",
        "      decimal_int = curr_ele\n",
        "      continue\n",
        "    else:\n",
        "      if (prev_ele > curr_ele):\n",
        "        decimal_int += curr_ele\n",
        "      else:\n",
        "        decimal_int = decimal_int + curr_ele - 2 * prev_ele\n",
        "    prev_ele = curr_ele\n",
        "  return decimal_int\n",
        "\n",
        "\n",
        "if __name__ == \"__main__\":\n",
        "  for each in s.splitlines():\n",
        "    print(convert_roman_to_decimal(each))"
      ],
      "metadata": {
        "colab": {
          "base_uri": "https://localhost:8080/"
        },
        "id": "EdQHy0FZJHUo",
        "outputId": "708808d3-df89-4bfd-ebc2-3a3af1b89e64"
      },
      "execution_count": 5,
      "outputs": [
        {
          "output_type": "stream",
          "name": "stdout",
          "text": [
            "9\n",
            "40\n",
            "1904\n"
          ]
        }
      ]
    },
    {
      "cell_type": "code",
      "source": [
        "'''Find the minimum distance between the given two words\n",
        "    Input: S = { “the”, “quick”, “brown”, “fox”, “quick”}, word1 = “the”, word2 = “fox”\n",
        "    Output: 3\n",
        "    Explanation: Minimum distance between the words “the” and “fox” is 3\n",
        "\n",
        "    Input: S = {“geeks”, “for”, “geeks”, “contribute”,  “practice”}, word1 = “geeks”, word2 = “practice”\n",
        "    Output: 2\n",
        "    Explanation: Minimum distance between the words “geeks” and “practice” is 2\n",
        "'''"
      ],
      "metadata": {
        "id": "_gqtzl_5PrMe"
      },
      "execution_count": null,
      "outputs": []
    },
    {
      "cell_type": "code",
      "source": [
        "s = [\"the\",\"quick\",\"brown\",\"fox\",\"quick\"]\n",
        "w1 = \"the\"\n",
        "w2 = \"fox\"\n",
        "'''s = [\"geeks\",\"for\",\"geeks\",\"contribute\",\"practice\"]\n",
        "w1 = \"geeks\"\n",
        "w2 = \"practice\"\n",
        "'''\n",
        "w1_search = [idx for idx,each in enumerate(s) if w1 in each]\n",
        "w2_search = [idx for idx,each in enumerate(s) if w2 in each]\n",
        "\n",
        "res = []\n",
        "for i in w1_search:\n",
        "  for j in w2_search:\n",
        "    res.append(abs(i-j))\n",
        "print(min(res))"
      ],
      "metadata": {
        "colab": {
          "base_uri": "https://localhost:8080/"
        },
        "id": "4ZnFSWX7P7e9",
        "outputId": "500015a6-fe99-4472-9399-3bc22bef453a"
      },
      "execution_count": 10,
      "outputs": [
        {
          "output_type": "stream",
          "name": "stdout",
          "text": [
            "3\n"
          ]
        }
      ]
    },
    {
      "cell_type": "code",
      "source": [
        "#Check if two given Strings are Isomorphic to each other\n",
        "s1 = \"egg\"\n",
        "s2 = \"add\"\n",
        "\n",
        "map_dict={}\n",
        "\n",
        "if len(s1) != len(s2):\n",
        "  print(\"Not Isomorphic\")\n",
        "else:\n",
        "  for i,j in zip(s1,s2):\n",
        "    if i not in map_dict and j not in map_dict.values() and i not in map_dict.values() and j not in map_dict:\n",
        "      map_dict[i] = j\n",
        "      map_dict[j] = i\n",
        "    else:\n",
        "      if (i in map_dict and map_dict[i] != j) or (j in map_dict and map_dict[j] != i):\n",
        "        print(\"Not Isomorphic\")\n",
        "        break\n",
        "  print(\"Isomorphic\")\n",
        "  print(map_dict)"
      ],
      "metadata": {
        "colab": {
          "base_uri": "https://localhost:8080/"
        },
        "id": "xGjqm7L6UscM",
        "outputId": "dbfd2618-af9a-48ed-da27-ba79dfefb1e5"
      },
      "execution_count": null,
      "outputs": [
        {
          "output_type": "stream",
          "name": "stdout",
          "text": [
            "Isomorphic\n",
            "{'e': 'a', 'a': 'e', 'g': 'd', 'd': 'g'}\n"
          ]
        }
      ]
    }
  ]
}